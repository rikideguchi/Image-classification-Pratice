{
  "nbformat": 4,
  "nbformat_minor": 0,
  "metadata": {
    "colab": {
      "name": "Facial recognition",
      "provenance": [],
      "collapsed_sections": []
    },
    "kernelspec": {
      "name": "python3",
      "display_name": "Python 3"
    }
  },
  "cells": [
    {
      "cell_type": "code",
      "metadata": {
        "id": "t217F73BlWhc",
        "colab_type": "code",
        "colab": {}
      },
      "source": [
        "import cv2"
      ],
      "execution_count": 0,
      "outputs": []
    },
    {
      "cell_type": "code",
      "metadata": {
        "id": "7H5NGzjEnWe3",
        "colab_type": "code",
        "colab": {}
      },
      "source": [
        "cascade_path = '/content/haarcascade_frontalface_default.xml'"
      ],
      "execution_count": 0,
      "outputs": []
    },
    {
      "cell_type": "code",
      "metadata": {
        "id": "QO3E9BhGnbHj",
        "colab_type": "code",
        "colab": {}
      },
      "source": [
        "image_file = 'IMG_9094.JPG'"
      ],
      "execution_count": 0,
      "outputs": []
    },
    {
      "cell_type": "code",
      "metadata": {
        "id": "AXoZ2c38ngxp",
        "colab_type": "code",
        "colab": {}
      },
      "source": [
        "image_path = '/' + image_file\n",
        "output_path = \"/\" + image_file"
      ],
      "execution_count": 0,
      "outputs": []
    },
    {
      "cell_type": "code",
      "metadata": {
        "id": "b21GG3KamOk6",
        "colab_type": "code",
        "colab": {}
      },
      "source": [
        "image = cv2.imread(image_path)"
      ],
      "execution_count": 0,
      "outputs": []
    },
    {
      "cell_type": "code",
      "metadata": {
        "id": "GxfFoblEmYII",
        "colab_type": "code",
        "colab": {}
      },
      "source": [
        "image_gray = cv2.cvtColor(image, cv2.COLOR_BGR2GRAY)"
      ],
      "execution_count": 0,
      "outputs": []
    },
    {
      "cell_type": "code",
      "metadata": {
        "id": "KlKxvZfXmZFv",
        "colab_type": "code",
        "colab": {}
      },
      "source": [
        "cascade = cv2.CascadeClassifier(cascade_path)"
      ],
      "execution_count": 0,
      "outputs": []
    },
    {
      "cell_type": "code",
      "metadata": {
        "id": "nUdL6TyRmm2t",
        "colab_type": "code",
        "colab": {}
      },
      "source": [
        "facerect = cascade.detectMultiScale(image_gray, scaleFactor=1.1, minNeighbors=2, minSize=(30, 30))"
      ],
      "execution_count": 0,
      "outputs": []
    },
    {
      "cell_type": "code",
      "metadata": {
        "id": "C1p05N2VtYkr",
        "colab_type": "code",
        "colab": {}
      },
      "source": [
        "color = (255, 255, 255) \n",
        "\n",
        "if len(facerect) > 0:\n",
        "\n",
        "    #検出した顔を囲む矩形の作成\n",
        "    for rect in facerect:\n",
        "        cv2.rectangle(image, tuple(rect[0:2]),tuple(rect[0:2]+rect[2:4]), color, thickness=2)\n",
        "\n",
        "    #認識結果の保存\n",
        "    cv2.imwrite(output_path, image)"
      ],
      "execution_count": 0,
      "outputs": []
    },
    {
      "cell_type": "code",
      "metadata": {
        "id": "kqLAFysrxMqm",
        "colab_type": "code",
        "colab": {}
      },
      "source": [
        ""
      ],
      "execution_count": 0,
      "outputs": []
    }
  ]
}